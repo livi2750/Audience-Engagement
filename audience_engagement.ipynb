{
 "cells": [
  {
   "cell_type": "code",
   "execution_count": 1,
   "id": "4dd44f9c",
   "metadata": {},
   "outputs": [],
   "source": [
    "import pandas as pd\n",
    "import numpy as np\n",
    "import matplotlib.pyplot as plt\n",
    "%matplotlib inline"
   ]
  },
  {
   "cell_type": "code",
   "execution_count": 2,
   "id": "90a74ded",
   "metadata": {},
   "outputs": [
    {
     "data": {
      "text/html": [
       "<div>\n",
       "<style scoped>\n",
       "    .dataframe tbody tr th:only-of-type {\n",
       "        vertical-align: middle;\n",
       "    }\n",
       "\n",
       "    .dataframe tbody tr th {\n",
       "        vertical-align: top;\n",
       "    }\n",
       "\n",
       "    .dataframe thead th {\n",
       "        text-align: right;\n",
       "    }\n",
       "</style>\n",
       "<table border=\"1\" class=\"dataframe\">\n",
       "  <thead>\n",
       "    <tr style=\"text-align: right;\">\n",
       "      <th></th>\n",
       "      <th>user_id</th>\n",
       "      <th>gender</th>\n",
       "      <th>age</th>\n",
       "      <th>location</th>\n",
       "      <th>likes</th>\n",
       "      <th>comments</th>\n",
       "      <th>shares</th>\n",
       "      <th>clicks</th>\n",
       "      <th>views</th>\n",
       "      <th>time_spent</th>\n",
       "      <th>device</th>\n",
       "      <th>referral_source</th>\n",
       "      <th>followers</th>\n",
       "    </tr>\n",
       "  </thead>\n",
       "  <tbody>\n",
       "    <tr>\n",
       "      <th>0</th>\n",
       "      <td>1</td>\n",
       "      <td>Female</td>\n",
       "      <td>25-34</td>\n",
       "      <td>New York</td>\n",
       "      <td>100</td>\n",
       "      <td>20</td>\n",
       "      <td>10</td>\n",
       "      <td>50</td>\n",
       "      <td>500</td>\n",
       "      <td>30.0</td>\n",
       "      <td>Mobile</td>\n",
       "      <td>Instagram</td>\n",
       "      <td>1000.0</td>\n",
       "    </tr>\n",
       "    <tr>\n",
       "      <th>1</th>\n",
       "      <td>2</td>\n",
       "      <td>Male</td>\n",
       "      <td>35-44</td>\n",
       "      <td>Los Angeles</td>\n",
       "      <td>200</td>\n",
       "      <td>30</td>\n",
       "      <td>15</td>\n",
       "      <td>100</td>\n",
       "      <td>1000</td>\n",
       "      <td>45.0</td>\n",
       "      <td>Desktop</td>\n",
       "      <td>Google</td>\n",
       "      <td>2000.0</td>\n",
       "    </tr>\n",
       "    <tr>\n",
       "      <th>2</th>\n",
       "      <td>3</td>\n",
       "      <td>Female</td>\n",
       "      <td>18-24</td>\n",
       "      <td>Chicago</td>\n",
       "      <td>50</td>\n",
       "      <td>10</td>\n",
       "      <td>5</td>\n",
       "      <td>20</td>\n",
       "      <td>200</td>\n",
       "      <td>20.0</td>\n",
       "      <td>Mobile</td>\n",
       "      <td>Facebook</td>\n",
       "      <td>500.0</td>\n",
       "    </tr>\n",
       "  </tbody>\n",
       "</table>\n",
       "</div>"
      ],
      "text/plain": [
       "   user_id  gender    age     location  likes  comments  shares  clicks  \\\n",
       "0        1  Female  25-34     New York    100        20      10      50   \n",
       "1        2    Male  35-44  Los Angeles    200        30      15     100   \n",
       "2        3  Female  18-24      Chicago     50        10       5      20   \n",
       "\n",
       "   views  time_spent   device referral_source  followers  \n",
       "0    500        30.0   Mobile       Instagram     1000.0  \n",
       "1   1000        45.0  Desktop          Google     2000.0  \n",
       "2    200        20.0   Mobile        Facebook      500.0  "
      ]
     },
     "execution_count": 2,
     "metadata": {},
     "output_type": "execute_result"
    }
   ],
   "source": [
    "#Read/Load dataset\n",
    "data_df = pd.read_csv('audience_engagement_data.csv')\n",
    "#View some of data\n",
    "data_df.head(3)"
   ]
  },
  {
   "cell_type": "markdown",
   "id": "aa1d20e3",
   "metadata": {},
   "source": [
    "### PreProcessing"
   ]
  },
  {
   "cell_type": "code",
   "execution_count": 3,
   "id": "f6be60bb",
   "metadata": {},
   "outputs": [
    {
     "name": "stdout",
     "output_type": "stream",
     "text": [
      "<class 'pandas.core.frame.DataFrame'>\n",
      "RangeIndex: 149 entries, 0 to 148\n",
      "Data columns (total 13 columns):\n",
      " #   Column           Non-Null Count  Dtype  \n",
      "---  ------           --------------  -----  \n",
      " 0   user_id          149 non-null    int64  \n",
      " 1   gender           149 non-null    object \n",
      " 2   age              149 non-null    object \n",
      " 3   location         149 non-null    object \n",
      " 4   likes            149 non-null    int64  \n",
      " 5   comments         149 non-null    int64  \n",
      " 6   shares           149 non-null    int64  \n",
      " 7   clicks           149 non-null    int64  \n",
      " 8   views            149 non-null    int64  \n",
      " 9   time_spent       148 non-null    float64\n",
      " 10  device           148 non-null    object \n",
      " 11  referral_source  148 non-null    object \n",
      " 12  followers        148 non-null    float64\n",
      "dtypes: float64(2), int64(6), object(5)\n",
      "memory usage: 15.3+ KB\n"
     ]
    }
   ],
   "source": [
    "#Check missing (vis)\n",
    "data_df.info()"
   ]
  },
  {
   "cell_type": "code",
   "execution_count": 4,
   "id": "f56714ce",
   "metadata": {},
   "outputs": [
    {
     "name": "stdout",
     "output_type": "stream",
     "text": [
      "Missing Values:\n",
      " user_id            0\n",
      "gender             0\n",
      "age                0\n",
      "location           0\n",
      "likes              0\n",
      "comments           0\n",
      "shares             0\n",
      "clicks             0\n",
      "views              0\n",
      "time_spent         1\n",
      "device             1\n",
      "referral_source    1\n",
      "followers          1\n",
      "dtype: int64\n"
     ]
    }
   ],
   "source": [
    "#handle missing values\n",
    "missing_values = data_df.isnull().sum()\n",
    "print(\"Missing Values:\\n\", missing_values)"
   ]
  },
  {
   "cell_type": "code",
   "execution_count": 5,
   "id": "df8f5103",
   "metadata": {},
   "outputs": [],
   "source": [
    "#Remove missing values\n",
    "data_df.dropna(inplace=True)"
   ]
  },
  {
   "cell_type": "code",
   "execution_count": 6,
   "id": "088e66af",
   "metadata": {},
   "outputs": [
    {
     "data": {
      "text/plain": [
       "8"
      ]
     },
     "execution_count": 6,
     "metadata": {},
     "output_type": "execute_result"
    }
   ],
   "source": [
    "#Check duplicates\n",
    "# Remove duplicate records\n",
    "data_df.duplicated().sum()\n"
   ]
  },
  {
   "cell_type": "code",
   "execution_count": 7,
   "id": "159bcccc",
   "metadata": {},
   "outputs": [],
   "source": [
    "data_df.drop_duplicates(inplace=True) #Remove duplicate records"
   ]
  },
  {
   "cell_type": "code",
   "execution_count": 8,
   "id": "136e7c61",
   "metadata": {},
   "outputs": [
    {
     "data": {
      "text/html": [
       "<div>\n",
       "<style scoped>\n",
       "    .dataframe tbody tr th:only-of-type {\n",
       "        vertical-align: middle;\n",
       "    }\n",
       "\n",
       "    .dataframe tbody tr th {\n",
       "        vertical-align: top;\n",
       "    }\n",
       "\n",
       "    .dataframe thead th {\n",
       "        text-align: right;\n",
       "    }\n",
       "</style>\n",
       "<table border=\"1\" class=\"dataframe\">\n",
       "  <thead>\n",
       "    <tr style=\"text-align: right;\">\n",
       "      <th></th>\n",
       "      <th>user_id</th>\n",
       "      <th>gender</th>\n",
       "      <th>age</th>\n",
       "      <th>location</th>\n",
       "      <th>likes</th>\n",
       "      <th>comments</th>\n",
       "      <th>shares</th>\n",
       "      <th>clicks</th>\n",
       "      <th>views</th>\n",
       "      <th>time_spent</th>\n",
       "      <th>device</th>\n",
       "      <th>referral_source</th>\n",
       "      <th>followers</th>\n",
       "      <th>engagement_rate</th>\n",
       "    </tr>\n",
       "  </thead>\n",
       "  <tbody>\n",
       "    <tr>\n",
       "      <th>0</th>\n",
       "      <td>1</td>\n",
       "      <td>Female</td>\n",
       "      <td>25-34</td>\n",
       "      <td>New York</td>\n",
       "      <td>100</td>\n",
       "      <td>20</td>\n",
       "      <td>10</td>\n",
       "      <td>50</td>\n",
       "      <td>500</td>\n",
       "      <td>30.0</td>\n",
       "      <td>Mobile</td>\n",
       "      <td>Instagram</td>\n",
       "      <td>1000.0</td>\n",
       "      <td>0.1</td>\n",
       "    </tr>\n",
       "    <tr>\n",
       "      <th>1</th>\n",
       "      <td>2</td>\n",
       "      <td>Male</td>\n",
       "      <td>35-44</td>\n",
       "      <td>Los Angeles</td>\n",
       "      <td>200</td>\n",
       "      <td>30</td>\n",
       "      <td>15</td>\n",
       "      <td>100</td>\n",
       "      <td>1000</td>\n",
       "      <td>45.0</td>\n",
       "      <td>Desktop</td>\n",
       "      <td>Google</td>\n",
       "      <td>2000.0</td>\n",
       "      <td>0.1</td>\n",
       "    </tr>\n",
       "    <tr>\n",
       "      <th>2</th>\n",
       "      <td>3</td>\n",
       "      <td>Female</td>\n",
       "      <td>18-24</td>\n",
       "      <td>Chicago</td>\n",
       "      <td>50</td>\n",
       "      <td>10</td>\n",
       "      <td>5</td>\n",
       "      <td>20</td>\n",
       "      <td>200</td>\n",
       "      <td>20.0</td>\n",
       "      <td>Mobile</td>\n",
       "      <td>Facebook</td>\n",
       "      <td>500.0</td>\n",
       "      <td>0.1</td>\n",
       "    </tr>\n",
       "  </tbody>\n",
       "</table>\n",
       "</div>"
      ],
      "text/plain": [
       "   user_id  gender    age     location  likes  comments  shares  clicks  \\\n",
       "0        1  Female  25-34     New York    100        20      10      50   \n",
       "1        2    Male  35-44  Los Angeles    200        30      15     100   \n",
       "2        3  Female  18-24      Chicago     50        10       5      20   \n",
       "\n",
       "   views  time_spent   device referral_source  followers  engagement_rate  \n",
       "0    500        30.0   Mobile       Instagram     1000.0              0.1  \n",
       "1   1000        45.0  Desktop          Google     2000.0              0.1  \n",
       "2    200        20.0   Mobile        Facebook      500.0              0.1  "
      ]
     },
     "execution_count": 8,
     "metadata": {},
     "output_type": "execute_result"
    }
   ],
   "source": [
    "#Features to use: 'gender', 'age', 'location', 'views', and 'time_spent' -predictors\n",
    "#Target(Label) : 'engagement_rate' - calculated as => 'likes' / 'followers'\n",
    "\n",
    "#Feature engineering\n",
    "data_df['engagement_rate'] = data_df['likes'] / data_df['followers']\n",
    "data_df.head(3)"
   ]
  },
  {
   "cell_type": "code",
   "execution_count": 9,
   "id": "3fad5891",
   "metadata": {},
   "outputs": [],
   "source": [
    "#Separate Features and Label\n",
    "\n",
    "features = data_df.iloc[:,[1,2,3,8,9]]\n",
    "label = data_df.iloc[:,13]"
   ]
  },
  {
   "cell_type": "code",
   "execution_count": 10,
   "id": "b7d48745",
   "metadata": {},
   "outputs": [
    {
     "data": {
      "text/html": [
       "<div>\n",
       "<style scoped>\n",
       "    .dataframe tbody tr th:only-of-type {\n",
       "        vertical-align: middle;\n",
       "    }\n",
       "\n",
       "    .dataframe tbody tr th {\n",
       "        vertical-align: top;\n",
       "    }\n",
       "\n",
       "    .dataframe thead th {\n",
       "        text-align: right;\n",
       "    }\n",
       "</style>\n",
       "<table border=\"1\" class=\"dataframe\">\n",
       "  <thead>\n",
       "    <tr style=\"text-align: right;\">\n",
       "      <th></th>\n",
       "      <th>gender</th>\n",
       "      <th>age</th>\n",
       "      <th>location</th>\n",
       "      <th>views</th>\n",
       "      <th>time_spent</th>\n",
       "    </tr>\n",
       "  </thead>\n",
       "  <tbody>\n",
       "    <tr>\n",
       "      <th>0</th>\n",
       "      <td>Female</td>\n",
       "      <td>25-34</td>\n",
       "      <td>New York</td>\n",
       "      <td>500</td>\n",
       "      <td>30.0</td>\n",
       "    </tr>\n",
       "    <tr>\n",
       "      <th>1</th>\n",
       "      <td>Male</td>\n",
       "      <td>35-44</td>\n",
       "      <td>Los Angeles</td>\n",
       "      <td>1000</td>\n",
       "      <td>45.0</td>\n",
       "    </tr>\n",
       "    <tr>\n",
       "      <th>2</th>\n",
       "      <td>Female</td>\n",
       "      <td>18-24</td>\n",
       "      <td>Chicago</td>\n",
       "      <td>200</td>\n",
       "      <td>20.0</td>\n",
       "    </tr>\n",
       "    <tr>\n",
       "      <th>3</th>\n",
       "      <td>Male</td>\n",
       "      <td>45-54</td>\n",
       "      <td>San Francisco</td>\n",
       "      <td>800</td>\n",
       "      <td>40.0</td>\n",
       "    </tr>\n",
       "    <tr>\n",
       "      <th>4</th>\n",
       "      <td>Female</td>\n",
       "      <td>25-34</td>\n",
       "      <td>Houston</td>\n",
       "      <td>400</td>\n",
       "      <td>25.0</td>\n",
       "    </tr>\n",
       "  </tbody>\n",
       "</table>\n",
       "</div>"
      ],
      "text/plain": [
       "   gender    age       location  views  time_spent\n",
       "0  Female  25-34       New York    500        30.0\n",
       "1    Male  35-44    Los Angeles   1000        45.0\n",
       "2  Female  18-24        Chicago    200        20.0\n",
       "3    Male  45-54  San Francisco    800        40.0\n",
       "4  Female  25-34        Houston    400        25.0"
      ]
     },
     "execution_count": 10,
     "metadata": {},
     "output_type": "execute_result"
    }
   ],
   "source": [
    "features.head()"
   ]
  },
  {
   "cell_type": "code",
   "execution_count": 11,
   "id": "93ee4a29",
   "metadata": {},
   "outputs": [],
   "source": [
    "#Handle Categorical Data\n",
    "# Make the dataset compatible for ML algo\n",
    "finalFeatures = pd.get_dummies(features)"
   ]
  },
  {
   "cell_type": "code",
   "execution_count": 12,
   "id": "995b6740",
   "metadata": {},
   "outputs": [
    {
     "data": {
      "text/html": [
       "<div>\n",
       "<style scoped>\n",
       "    .dataframe tbody tr th:only-of-type {\n",
       "        vertical-align: middle;\n",
       "    }\n",
       "\n",
       "    .dataframe tbody tr th {\n",
       "        vertical-align: top;\n",
       "    }\n",
       "\n",
       "    .dataframe thead th {\n",
       "        text-align: right;\n",
       "    }\n",
       "</style>\n",
       "<table border=\"1\" class=\"dataframe\">\n",
       "  <thead>\n",
       "    <tr style=\"text-align: right;\">\n",
       "      <th></th>\n",
       "      <th>views</th>\n",
       "      <th>time_spent</th>\n",
       "      <th>gender_Female</th>\n",
       "      <th>gender_Male</th>\n",
       "      <th>age_18-24</th>\n",
       "      <th>age_25-34</th>\n",
       "      <th>age_35-44</th>\n",
       "      <th>age_45-54</th>\n",
       "      <th>location_Albuquerque</th>\n",
       "      <th>location_Anchorage</th>\n",
       "      <th>...</th>\n",
       "      <th>location_Shreveport</th>\n",
       "      <th>location_Sioux Falls</th>\n",
       "      <th>location_Spokane</th>\n",
       "      <th>location_Springfield</th>\n",
       "      <th>location_Tallahassee</th>\n",
       "      <th>location_Tampa</th>\n",
       "      <th>location_Tucson</th>\n",
       "      <th>location_Tulsa</th>\n",
       "      <th>location_Washington D.C.</th>\n",
       "      <th>location_Wichita</th>\n",
       "    </tr>\n",
       "  </thead>\n",
       "  <tbody>\n",
       "    <tr>\n",
       "      <th>0</th>\n",
       "      <td>500</td>\n",
       "      <td>30.0</td>\n",
       "      <td>1</td>\n",
       "      <td>0</td>\n",
       "      <td>0</td>\n",
       "      <td>1</td>\n",
       "      <td>0</td>\n",
       "      <td>0</td>\n",
       "      <td>0</td>\n",
       "      <td>0</td>\n",
       "      <td>...</td>\n",
       "      <td>0</td>\n",
       "      <td>0</td>\n",
       "      <td>0</td>\n",
       "      <td>0</td>\n",
       "      <td>0</td>\n",
       "      <td>0</td>\n",
       "      <td>0</td>\n",
       "      <td>0</td>\n",
       "      <td>0</td>\n",
       "      <td>0</td>\n",
       "    </tr>\n",
       "    <tr>\n",
       "      <th>1</th>\n",
       "      <td>1000</td>\n",
       "      <td>45.0</td>\n",
       "      <td>0</td>\n",
       "      <td>1</td>\n",
       "      <td>0</td>\n",
       "      <td>0</td>\n",
       "      <td>1</td>\n",
       "      <td>0</td>\n",
       "      <td>0</td>\n",
       "      <td>0</td>\n",
       "      <td>...</td>\n",
       "      <td>0</td>\n",
       "      <td>0</td>\n",
       "      <td>0</td>\n",
       "      <td>0</td>\n",
       "      <td>0</td>\n",
       "      <td>0</td>\n",
       "      <td>0</td>\n",
       "      <td>0</td>\n",
       "      <td>0</td>\n",
       "      <td>0</td>\n",
       "    </tr>\n",
       "    <tr>\n",
       "      <th>2</th>\n",
       "      <td>200</td>\n",
       "      <td>20.0</td>\n",
       "      <td>1</td>\n",
       "      <td>0</td>\n",
       "      <td>1</td>\n",
       "      <td>0</td>\n",
       "      <td>0</td>\n",
       "      <td>0</td>\n",
       "      <td>0</td>\n",
       "      <td>0</td>\n",
       "      <td>...</td>\n",
       "      <td>0</td>\n",
       "      <td>0</td>\n",
       "      <td>0</td>\n",
       "      <td>0</td>\n",
       "      <td>0</td>\n",
       "      <td>0</td>\n",
       "      <td>0</td>\n",
       "      <td>0</td>\n",
       "      <td>0</td>\n",
       "      <td>0</td>\n",
       "    </tr>\n",
       "    <tr>\n",
       "      <th>3</th>\n",
       "      <td>800</td>\n",
       "      <td>40.0</td>\n",
       "      <td>0</td>\n",
       "      <td>1</td>\n",
       "      <td>0</td>\n",
       "      <td>0</td>\n",
       "      <td>0</td>\n",
       "      <td>1</td>\n",
       "      <td>0</td>\n",
       "      <td>0</td>\n",
       "      <td>...</td>\n",
       "      <td>0</td>\n",
       "      <td>0</td>\n",
       "      <td>0</td>\n",
       "      <td>0</td>\n",
       "      <td>0</td>\n",
       "      <td>0</td>\n",
       "      <td>0</td>\n",
       "      <td>0</td>\n",
       "      <td>0</td>\n",
       "      <td>0</td>\n",
       "    </tr>\n",
       "    <tr>\n",
       "      <th>4</th>\n",
       "      <td>400</td>\n",
       "      <td>25.0</td>\n",
       "      <td>1</td>\n",
       "      <td>0</td>\n",
       "      <td>0</td>\n",
       "      <td>1</td>\n",
       "      <td>0</td>\n",
       "      <td>0</td>\n",
       "      <td>0</td>\n",
       "      <td>0</td>\n",
       "      <td>...</td>\n",
       "      <td>0</td>\n",
       "      <td>0</td>\n",
       "      <td>0</td>\n",
       "      <td>0</td>\n",
       "      <td>0</td>\n",
       "      <td>0</td>\n",
       "      <td>0</td>\n",
       "      <td>0</td>\n",
       "      <td>0</td>\n",
       "      <td>0</td>\n",
       "    </tr>\n",
       "  </tbody>\n",
       "</table>\n",
       "<p>5 rows × 97 columns</p>\n",
       "</div>"
      ],
      "text/plain": [
       "   views  time_spent  gender_Female  gender_Male  age_18-24  age_25-34  \\\n",
       "0    500        30.0              1            0          0          1   \n",
       "1   1000        45.0              0            1          0          0   \n",
       "2    200        20.0              1            0          1          0   \n",
       "3    800        40.0              0            1          0          0   \n",
       "4    400        25.0              1            0          0          1   \n",
       "\n",
       "   age_35-44  age_45-54  location_Albuquerque  location_Anchorage  ...  \\\n",
       "0          0          0                     0                   0  ...   \n",
       "1          1          0                     0                   0  ...   \n",
       "2          0          0                     0                   0  ...   \n",
       "3          0          1                     0                   0  ...   \n",
       "4          0          0                     0                   0  ...   \n",
       "\n",
       "   location_Shreveport  location_Sioux Falls  location_Spokane  \\\n",
       "0                    0                     0                 0   \n",
       "1                    0                     0                 0   \n",
       "2                    0                     0                 0   \n",
       "3                    0                     0                 0   \n",
       "4                    0                     0                 0   \n",
       "\n",
       "   location_Springfield  location_Tallahassee  location_Tampa  \\\n",
       "0                     0                     0               0   \n",
       "1                     0                     0               0   \n",
       "2                     0                     0               0   \n",
       "3                     0                     0               0   \n",
       "4                     0                     0               0   \n",
       "\n",
       "   location_Tucson  location_Tulsa  location_Washington D.C.  location_Wichita  \n",
       "0                0               0                         0                 0  \n",
       "1                0               0                         0                 0  \n",
       "2                0               0                         0                 0  \n",
       "3                0               0                         0                 0  \n",
       "4                0               0                         0                 0  \n",
       "\n",
       "[5 rows x 97 columns]"
      ]
     },
     "execution_count": 12,
     "metadata": {},
     "output_type": "execute_result"
    }
   ],
   "source": [
    "finalFeatures.head()"
   ]
  },
  {
   "cell_type": "code",
   "execution_count": 13,
   "id": "800ea1df",
   "metadata": {},
   "outputs": [
    {
     "name": "stdout",
     "output_type": "stream",
     "text": [
      "Test Score is 1.0 and Train Score is 1.0 in RS value 1\n",
      "Test Score is 1.0 and Train Score is 1.0 in RS value 2\n",
      "Test Score is 1.0 and Train Score is 1.0 in RS value 3\n",
      "Test Score is 1.0 and Train Score is 1.0 in RS value 4\n",
      "Test Score is 1.0 and Train Score is 1.0 in RS value 5\n",
      "Test Score is 1.0 and Train Score is 1.0 in RS value 6\n",
      "Test Score is 1.0 and Train Score is 1.0 in RS value 7\n",
      "Test Score is 1.0 and Train Score is 1.0 in RS value 8\n",
      "Test Score is 1.0 and Train Score is 1.0 in RS value 9\n",
      "Test Score is 1.0 and Train Score is 1.0 in RS value 10\n"
     ]
    }
   ],
   "source": [
    "#Get the Good RS\n",
    "import warnings\n",
    "warnings.filterwarnings(\"ignore\")\n",
    "\n",
    "CL = 0.9\n",
    "#import traintest split and model(linearReg)\n",
    "from sklearn.model_selection import train_test_split\n",
    "from sklearn.linear_model import LinearRegression\n",
    "\n",
    "for rs in range(1,11):\n",
    "  X_train,X_test,y_train,y_test = train_test_split(finalFeatures,\n",
    "                                                 label,\n",
    "                                                 test_size=0.2,\n",
    "                                                 random_state=rs)\n",
    "\n",
    "  model = LinearRegression()\n",
    "  model.fit(X_train,y_train)\n",
    "\n",
    "  testScore = model.score(X_test,y_test)\n",
    "  trainScore = model.score(X_train,y_train)\n",
    "\n",
    "  if testScore >= trainScore and testScore >= CL:\n",
    "    print(\"Test Score is {} and Train Score is {} in RS value {}\".format(testScore,trainScore,rs))"
   ]
  },
  {
   "cell_type": "code",
   "execution_count": 14,
   "id": "7be7f321",
   "metadata": {},
   "outputs": [
    {
     "name": "stdout",
     "output_type": "stream",
     "text": [
      "Test Score is 1.0 and Train Score is 1.0\n"
     ]
    }
   ],
   "source": [
    "#Since any state produces a score of 100 let's go with RS 10\n",
    "X_train,X_test,y_train,y_test = train_test_split(finalFeatures,\n",
    "                                                 label,\n",
    "                                                 test_size=0.2,\n",
    "                                                 random_state=10)\n",
    "\n",
    "model = LinearRegression()\n",
    "model.fit(X_train,y_train)\n",
    "\n",
    "testScore = model.score(X_test,y_test)\n",
    "trainScore = model.score(X_train,y_train)\n",
    "\n",
    "print(\"Test Score is {} and Train Score is {}\".format(testScore,trainScore))"
   ]
  },
  {
   "cell_type": "code",
   "execution_count": 15,
   "id": "02385465",
   "metadata": {},
   "outputs": [
    {
     "data": {
      "text/html": [
       "<div>\n",
       "<style scoped>\n",
       "    .dataframe tbody tr th:only-of-type {\n",
       "        vertical-align: middle;\n",
       "    }\n",
       "\n",
       "    .dataframe tbody tr th {\n",
       "        vertical-align: top;\n",
       "    }\n",
       "\n",
       "    .dataframe thead th {\n",
       "        text-align: right;\n",
       "    }\n",
       "</style>\n",
       "<table border=\"1\" class=\"dataframe\">\n",
       "  <thead>\n",
       "    <tr style=\"text-align: right;\">\n",
       "      <th></th>\n",
       "      <th>views</th>\n",
       "      <th>time_spent</th>\n",
       "      <th>gender_Female</th>\n",
       "      <th>gender_Male</th>\n",
       "      <th>age_18-24</th>\n",
       "      <th>age_25-34</th>\n",
       "      <th>age_35-44</th>\n",
       "      <th>age_45-54</th>\n",
       "      <th>location_Albuquerque</th>\n",
       "      <th>location_Anchorage</th>\n",
       "      <th>...</th>\n",
       "      <th>location_Shreveport</th>\n",
       "      <th>location_Sioux Falls</th>\n",
       "      <th>location_Spokane</th>\n",
       "      <th>location_Springfield</th>\n",
       "      <th>location_Tallahassee</th>\n",
       "      <th>location_Tampa</th>\n",
       "      <th>location_Tucson</th>\n",
       "      <th>location_Tulsa</th>\n",
       "      <th>location_Washington D.C.</th>\n",
       "      <th>location_Wichita</th>\n",
       "    </tr>\n",
       "  </thead>\n",
       "  <tbody>\n",
       "    <tr>\n",
       "      <th>0</th>\n",
       "      <td>500</td>\n",
       "      <td>30.0</td>\n",
       "      <td>1</td>\n",
       "      <td>0</td>\n",
       "      <td>0</td>\n",
       "      <td>1</td>\n",
       "      <td>0</td>\n",
       "      <td>0</td>\n",
       "      <td>0</td>\n",
       "      <td>0</td>\n",
       "      <td>...</td>\n",
       "      <td>0</td>\n",
       "      <td>0</td>\n",
       "      <td>0</td>\n",
       "      <td>0</td>\n",
       "      <td>0</td>\n",
       "      <td>0</td>\n",
       "      <td>0</td>\n",
       "      <td>0</td>\n",
       "      <td>0</td>\n",
       "      <td>0</td>\n",
       "    </tr>\n",
       "    <tr>\n",
       "      <th>1</th>\n",
       "      <td>1000</td>\n",
       "      <td>45.0</td>\n",
       "      <td>0</td>\n",
       "      <td>1</td>\n",
       "      <td>0</td>\n",
       "      <td>0</td>\n",
       "      <td>1</td>\n",
       "      <td>0</td>\n",
       "      <td>0</td>\n",
       "      <td>0</td>\n",
       "      <td>...</td>\n",
       "      <td>0</td>\n",
       "      <td>0</td>\n",
       "      <td>0</td>\n",
       "      <td>0</td>\n",
       "      <td>0</td>\n",
       "      <td>0</td>\n",
       "      <td>0</td>\n",
       "      <td>0</td>\n",
       "      <td>0</td>\n",
       "      <td>0</td>\n",
       "    </tr>\n",
       "    <tr>\n",
       "      <th>2</th>\n",
       "      <td>200</td>\n",
       "      <td>20.0</td>\n",
       "      <td>1</td>\n",
       "      <td>0</td>\n",
       "      <td>1</td>\n",
       "      <td>0</td>\n",
       "      <td>0</td>\n",
       "      <td>0</td>\n",
       "      <td>0</td>\n",
       "      <td>0</td>\n",
       "      <td>...</td>\n",
       "      <td>0</td>\n",
       "      <td>0</td>\n",
       "      <td>0</td>\n",
       "      <td>0</td>\n",
       "      <td>0</td>\n",
       "      <td>0</td>\n",
       "      <td>0</td>\n",
       "      <td>0</td>\n",
       "      <td>0</td>\n",
       "      <td>0</td>\n",
       "    </tr>\n",
       "  </tbody>\n",
       "</table>\n",
       "<p>3 rows × 97 columns</p>\n",
       "</div>"
      ],
      "text/plain": [
       "   views  time_spent  gender_Female  gender_Male  age_18-24  age_25-34  \\\n",
       "0    500        30.0              1            0          0          1   \n",
       "1   1000        45.0              0            1          0          0   \n",
       "2    200        20.0              1            0          1          0   \n",
       "\n",
       "   age_35-44  age_45-54  location_Albuquerque  location_Anchorage  ...  \\\n",
       "0          0          0                     0                   0  ...   \n",
       "1          1          0                     0                   0  ...   \n",
       "2          0          0                     0                   0  ...   \n",
       "\n",
       "   location_Shreveport  location_Sioux Falls  location_Spokane  \\\n",
       "0                    0                     0                 0   \n",
       "1                    0                     0                 0   \n",
       "2                    0                     0                 0   \n",
       "\n",
       "   location_Springfield  location_Tallahassee  location_Tampa  \\\n",
       "0                     0                     0               0   \n",
       "1                     0                     0               0   \n",
       "2                     0                     0               0   \n",
       "\n",
       "   location_Tucson  location_Tulsa  location_Washington D.C.  location_Wichita  \n",
       "0                0               0                         0                 0  \n",
       "1                0               0                         0                 0  \n",
       "2                0               0                         0                 0  \n",
       "\n",
       "[3 rows x 97 columns]"
      ]
     },
     "execution_count": 15,
     "metadata": {},
     "output_type": "execute_result"
    }
   ],
   "source": [
    "finalFeatures.head(3)"
   ]
  },
  {
   "cell_type": "code",
   "execution_count": 16,
   "id": "683a43c3",
   "metadata": {},
   "outputs": [
    {
     "data": {
      "text/plain": [
       "array([0.1, 0.1, 0.1, 0.1, 0.1, 0.1, 0.1, 0.1, 0.1, 0.1, 0.1, 0.1, 0.1,\n",
       "       0.1, 0.1, 0.1, 0.1, 0.1, 0.1, 0.1, 0.1, 0.1, 0.1, 0.1, 0.1, 0.1,\n",
       "       0.1, 0.1])"
      ]
     },
     "execution_count": 16,
     "metadata": {},
     "output_type": "execute_result"
    }
   ],
   "source": [
    "# Make predictions\n",
    "y_pred = model.predict(X_test)\n",
    "y_pred"
   ]
  },
  {
   "cell_type": "code",
   "execution_count": 17,
   "id": "a1e66a2b",
   "metadata": {},
   "outputs": [
    {
     "name": "stdout",
     "output_type": "stream",
     "text": [
      "Mean Squared Error: 0.0\n"
     ]
    }
   ],
   "source": [
    "from sklearn.metrics import mean_squared_error\n",
    "# Evaluate the model\n",
    "mse = mean_squared_error(y_test, y_pred)\n",
    "print(\"Mean Squared Error:\", mse)"
   ]
  },
  {
   "cell_type": "markdown",
   "id": "822955a9",
   "metadata": {},
   "source": [
    "Model looks ok now deploy"
   ]
  },
  {
   "cell_type": "code",
   "execution_count": 21,
   "id": "103eebfe",
   "metadata": {},
   "outputs": [],
   "source": [
    "#Packing model\n",
    "import pickle\n",
    "from sklearn.preprocessing import OneHotEncoder\n",
    "ohe = OneHotEncoder(sparse=False)\n",
    "pickle.dump(model,open('modelEnagementPredictor.pkl','wb'))\n",
    "pickle.dump(ohe,open('stateEncoderDecoder.pkl','wb'))\n"
   ]
  },
  {
   "cell_type": "code",
   "execution_count": 22,
   "id": "b4170011",
   "metadata": {},
   "outputs": [],
   "source": [
    "#Unpack model\n",
    "modelEnagement = pickle.load(open('modelEnagementPredictor.pkl','rb'))\n",
    "ohe = pickle.load(open('stateEncoderDecoder.pkl','rb'))"
   ]
  },
  {
   "cell_type": "code",
   "execution_count": 23,
   "id": "9544f76b",
   "metadata": {},
   "outputs": [
    {
     "name": "stdout",
     "output_type": "stream",
     "text": [
      "Enter Gender(Male/Female): Female\n",
      "Enter Age: 18-24\n",
      "Enter Location: Chicago\n",
      "Enter Views: 4000\n",
      "Enter Time Spent:30\n"
     ]
    }
   ],
   "source": [
    "#Deploy test \n",
    "#Input predictors: 'gender', 'age', 'location', 'views', 'time_spent'\n",
    "\n",
    "try:\n",
    "    gender = input(\"Enter Gender(Male/Female): \")\n",
    "    age= input(\"Enter Age: \")\n",
    "    location= input(\"Enter Location: \")\n",
    "    views = int(input(\"Enter Views: \"))\n",
    "    timeSpent= float(input(\"Enter Time Spent:\"))\n",
    "except ValueError:\n",
    "    print(\"Invalid Input Try again\")\n"
   ]
  },
  {
   "cell_type": "code",
   "execution_count": 24,
   "id": "784f5a4a",
   "metadata": {},
   "outputs": [],
   "source": [
    "#Encoding using OHE\n",
    "from sklearn.preprocessing import OneHotEncoder\n",
    "ohe = OneHotEncoder(sparse=False)\n"
   ]
  },
  {
   "cell_type": "code",
   "execution_count": 25,
   "id": "2fb7bd5b",
   "metadata": {},
   "outputs": [
    {
     "data": {
      "text/plain": [
       "array([[0., 0., 0., 0., 0., 0., 0., 0., 0., 0., 0., 0., 0., 0., 1., 0.,\n",
       "        0., 0., 0., 0., 0., 0., 0., 0., 0., 0., 0., 0., 0., 0., 0., 0.,\n",
       "        0., 0., 0., 0., 0., 0., 0., 0., 0., 0., 0., 0., 0., 0., 0., 0.,\n",
       "        0., 0., 0., 0., 0., 0., 0., 0., 0., 0., 0., 0., 0., 0., 0., 0.,\n",
       "        0., 0., 0., 0., 0., 0., 0., 0., 0., 0., 0., 0., 0., 0., 0., 0.,\n",
       "        0., 0., 0., 0., 0., 0., 0., 0., 0.]])"
      ]
     },
     "execution_count": 25,
     "metadata": {},
     "output_type": "execute_result"
    }
   ],
   "source": [
    "#Make Location ML Algo ready\n",
    "fLocation = ohe.fit_transform(pd.DataFrame(features.iloc[:,2]))\n",
    "encodedLoc=ohe.transform(np.array([[location]]))\n",
    "encodedLoc"
   ]
  },
  {
   "cell_type": "code",
   "execution_count": 26,
   "id": "bbed38e2",
   "metadata": {},
   "outputs": [
    {
     "data": {
      "text/plain": [
       "array([[1., 0.]])"
      ]
     },
     "execution_count": 26,
     "metadata": {},
     "output_type": "execute_result"
    }
   ],
   "source": [
    "#Make Gender ML Algo ready\n",
    "fGender = ohe.fit_transform(pd.DataFrame(features.iloc[:,0]))\n",
    "encodedGen = ohe.transform(np.array([[gender]]))\n",
    "encodedGen"
   ]
  },
  {
   "cell_type": "code",
   "execution_count": 27,
   "id": "23246150",
   "metadata": {},
   "outputs": [
    {
     "data": {
      "text/plain": [
       "array([[1., 0., 0., 0.]])"
      ]
     },
     "execution_count": 27,
     "metadata": {},
     "output_type": "execute_result"
    }
   ],
   "source": [
    "#Make Age ML Algo ready\n",
    "fAge = ohe.fit_transform(pd.DataFrame(features.iloc[:,1]))\n",
    "encodedAge = ohe.transform(np.array([[age]]))\n",
    "encodedAge"
   ]
  },
  {
   "cell_type": "code",
   "execution_count": 28,
   "id": "03eb1fcc",
   "metadata": {},
   "outputs": [
    {
     "data": {
      "text/plain": [
       "array([[4.e+03, 3.e+01, 1.e+00, 0.e+00, 1.e+00, 0.e+00, 0.e+00, 0.e+00,\n",
       "        0.e+00, 0.e+00, 0.e+00, 0.e+00, 0.e+00, 0.e+00, 0.e+00, 0.e+00,\n",
       "        0.e+00, 0.e+00, 0.e+00, 0.e+00, 0.e+00, 0.e+00, 1.e+00, 0.e+00,\n",
       "        0.e+00, 0.e+00, 0.e+00, 0.e+00, 0.e+00, 0.e+00, 0.e+00, 0.e+00,\n",
       "        0.e+00, 0.e+00, 0.e+00, 0.e+00, 0.e+00, 0.e+00, 0.e+00, 0.e+00,\n",
       "        0.e+00, 0.e+00, 0.e+00, 0.e+00, 0.e+00, 0.e+00, 0.e+00, 0.e+00,\n",
       "        0.e+00, 0.e+00, 0.e+00, 0.e+00, 0.e+00, 0.e+00, 0.e+00, 0.e+00,\n",
       "        0.e+00, 0.e+00, 0.e+00, 0.e+00, 0.e+00, 0.e+00, 0.e+00, 0.e+00,\n",
       "        0.e+00, 0.e+00, 0.e+00, 0.e+00, 0.e+00, 0.e+00, 0.e+00, 0.e+00,\n",
       "        0.e+00, 0.e+00, 0.e+00, 0.e+00, 0.e+00, 0.e+00, 0.e+00, 0.e+00,\n",
       "        0.e+00, 0.e+00, 0.e+00, 0.e+00, 0.e+00, 0.e+00, 0.e+00, 0.e+00,\n",
       "        0.e+00, 0.e+00, 0.e+00, 0.e+00, 0.e+00, 0.e+00, 0.e+00, 0.e+00,\n",
       "        0.e+00]])"
      ]
     },
     "execution_count": 28,
     "metadata": {},
     "output_type": "execute_result"
    }
   ],
   "source": [
    "#combine predictors\n",
    "finalPredictors = np.concatenate((np.array([[views,timeSpent]]),encodedGen,encodedAge,encodedLoc),axis=1)\n",
    "finalPredictors"
   ]
  },
  {
   "cell_type": "code",
   "execution_count": 34,
   "id": "54a0c621",
   "metadata": {},
   "outputs": [
    {
     "name": "stdout",
     "output_type": "stream",
     "text": [
      "Predicted Enagement is 10.0%\n"
     ]
    }
   ],
   "source": [
    "predictEngagement = modelEnagement.predict(finalPredictors)\n",
    "print(\"Predicted Enagement is {}%\".format(predictEngagement[0]*100))"
   ]
  },
  {
   "cell_type": "code",
   "execution_count": null,
   "id": "5dfe8803",
   "metadata": {},
   "outputs": [],
   "source": []
  }
 ],
 "metadata": {
  "kernelspec": {
   "display_name": "Python 3 (ipykernel)",
   "language": "python",
   "name": "python3"
  },
  "language_info": {
   "codemirror_mode": {
    "name": "ipython",
    "version": 3
   },
   "file_extension": ".py",
   "mimetype": "text/x-python",
   "name": "python",
   "nbconvert_exporter": "python",
   "pygments_lexer": "ipython3",
   "version": "3.11.4"
  }
 },
 "nbformat": 4,
 "nbformat_minor": 5
}
